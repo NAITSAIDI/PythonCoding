{
 "cells": [
  {
   "cell_type": "markdown",
   "id": "9c842364",
   "metadata": {},
   "source": [
    "# Text Formating #Markdown#"
   ]
  },
  {
   "cell_type": "markdown",
   "id": "674f8f51",
   "metadata": {},
   "source": [
    "## 1- Heading"
   ]
  },
  {
   "cell_type": "markdown",
   "id": "fcc05502",
   "metadata": {},
   "source": [
    "Use # to change the size of the Heading, or use html "
   ]
  },
  {
   "cell_type": "markdown",
   "id": "b456a426",
   "metadata": {},
   "source": [
    "## 2- using bold text "
   ]
  },
  {
   "cell_type": "markdown",
   "id": "39f08a81",
   "metadata": {},
   "source": [
    "###### Let's fromat this text "
   ]
  },
  {
   "cell_type": "markdown",
   "id": "92182922",
   "metadata": {},
   "source": [
    "Now let's learn how to make the text __bold__ like this or **bold** like this or with <b>bold</b> "
   ]
  },
  {
   "cell_type": "markdown",
   "id": "6eff0ede",
   "metadata": {},
   "source": [
    "Use <br> to break the line ( doesn't use a closing statement)"
   ]
  },
  {
   "cell_type": "markdown",
   "id": "6dc175e4",
   "metadata": {},
   "source": [
    "This sentence is going to <br> be broken"
   ]
  },
  {
   "cell_type": "markdown",
   "id": "936da85d",
   "metadata": {},
   "source": [
    "## 3- Font color "
   ]
  },
  {
   "cell_type": "markdown",
   "id": "8da1933e",
   "metadata": {},
   "source": [
    "<font color = 'green'>this is the sentence</font>"
   ]
  },
  {
   "cell_type": "markdown",
   "id": "21a2cc67",
   "metadata": {},
   "source": [
    "## 4-Bullet points "
   ]
  },
  {
   "cell_type": "markdown",
   "id": "e989522e",
   "metadata": {},
   "source": [
    "- this is sentence number 2 \n",
    "- this is sentence number 3 \n",
    "- this is sentence number 2 \n",
    "- this is sentence number 4"
   ]
  },
  {
   "cell_type": "markdown",
   "id": "9cabe59a",
   "metadata": {},
   "source": [
    "## 5- Numbered lists "
   ]
  },
  {
   "cell_type": "markdown",
   "id": "e16a413a",
   "metadata": {},
   "source": [
    "1. item one \n",
    "2. item two \n",
    "    1. subitem one \n",
    "    2. suitem two\n",
    "   "
   ]
  },
  {
   "cell_type": "markdown",
   "id": "66e347ab",
   "metadata": {},
   "source": [
    "<img src= \"/Users/alix/Desktop/Screenshot.PNG\">\n",
    "     "
   ]
  },
  {
   "cell_type": "code",
   "execution_count": null,
   "id": "65f3e120",
   "metadata": {},
   "outputs": [],
   "source": []
  }
 ],
 "metadata": {
  "kernelspec": {
   "display_name": "Python 3 (ipykernel)",
   "language": "python",
   "name": "python3"
  },
  "language_info": {
   "codemirror_mode": {
    "name": "ipython",
    "version": 3
   },
   "file_extension": ".py",
   "mimetype": "text/x-python",
   "name": "python",
   "nbconvert_exporter": "python",
   "pygments_lexer": "ipython3",
   "version": "3.9.12"
  }
 },
 "nbformat": 4,
 "nbformat_minor": 5
}
